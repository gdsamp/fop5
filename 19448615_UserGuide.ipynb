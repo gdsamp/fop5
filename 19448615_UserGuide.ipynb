{
 "cells": [
  {
   "cell_type": "markdown",
   "metadata": {},
   "source": [
    "# COMP1005 Fundamentals of Programming\n",
    "## Assignment\n",
    "### James Fry - 19448615"
   ]
  },
  {
   "cell_type": "markdown",
   "metadata": {},
   "source": [
    "## User Guide"
   ]
  },
  {
   "cell_type": "markdown",
   "metadata": {},
   "source": [
    "### Overview\n",
    "#### Purpose\n",
    "The Python program shrimpsim.py has been created to simulate the life cycle of a tank of brine shrimp across multiple stages of its life cycle.\n",
    "The initial population of brine shrimp eggs are spawned into the tank at random, and through the timesteps, they develop into adults capable of reproducing. Initial conditions such as tank size and egg count are able to be defined by the user."
   ]
  },
  {
   "cell_type": "markdown",
   "metadata": {},
   "source": [
    "### Extensions\n",
    "#### 1. Life Cycle\n",
    "The code has been extended to include more life stages than the base code. These life stages are egg, hatchling, juvenile, adult. Shrimp will spawn in random locations in the tank in the egg stage.\n",
    "Each state is represented by a different marker and has a different size. Additionally, a shrimp will either be male or female, with female shrimp being slightly larger in size. \n",
    "\n",
    "The movement for each state is also different, and shrimp may only reproduce if both shrimp are of the opposite sex and in the adult life cycle stage.\n",
    "\n",
    "#### 2. Visualisation\n",
    "The code has been extended to show different markers representing the different life cycle stage of the shrimp. The shrimp get progressively bigger until they reach the adult stage. \n",
    "Males and females are represented by different colours. \n",
    "\n",
    "\n",
    "#### 3. Movement\n",
    "The shrimp's movement is set by parameters within shrimp.py\n",
    "In \n",
    "\n",
    "#### 4. Collisions\n",
    "The code has been extended to recognise when collisions occur.\n",
    "A collision is said to occur when two shrimp have the same coordinates exactly. This collision may result in reproduction occuring.\n",
    "\n",
    "#### 5. Reproduction\n",
    "This extension allows for the shrimp to reproduce sexually.\n",
    "Due to the low probability of collision occurring, a 'demonstration mode' of the reproduction code is included and can be set to occur in the parameter sweep.\n",
    "\n",
    "#### 6. Parameter sweep\n",
    "The program has been extended to include a parameter sweep feature. This allows for the user to set their desired tank size, initial number of shrimp and reproduction demo."
   ]
  },
  {
   "cell_type": "code",
   "execution_count": null,
   "metadata": {},
   "outputs": [],
   "source": []
  }
 ],
 "metadata": {
  "kernelspec": {
   "display_name": "Python 3",
   "language": "python",
   "name": "python3"
  },
  "language_info": {
   "codemirror_mode": {
    "name": "ipython",
    "version": 3
   },
   "file_extension": ".py",
   "mimetype": "text/x-python",
   "name": "python",
   "nbconvert_exporter": "python",
   "pygments_lexer": "ipython3",
   "version": "3.6.7"
  }
 },
 "nbformat": 4,
 "nbformat_minor": 2
}
